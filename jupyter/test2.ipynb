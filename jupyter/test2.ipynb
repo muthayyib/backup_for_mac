{
 "cells": [
  {
   "cell_type": "code",
   "execution_count": 42,
   "id": "a15f3b36",
   "metadata": {
    "scrolled": true
   },
   "outputs": [
    {
     "name": "stdout",
     "output_type": "stream",
     "text": [
      "[8, 7, 4, 5]\n",
      "[6, 5, 4, 8]\n"
     ]
    }
   ],
   "source": [
    "import random\n",
    "random.seed()\n",
    "li = [2,55,5,7,4,6,2,4,8,6,6,2,4]\n",
    "print(random.sample(li,4))\n",
    "print(random.sample(li,4))"
   ]
  },
  {
   "cell_type": "code",
   "execution_count": 43,
   "id": "d54dd79f",
   "metadata": {},
   "outputs": [
    {
     "name": "stdout",
     "output_type": "stream",
     "text": [
      "[2, 55, 5, 7, 4, 6, 2, 4, 8, 6, 6, 2, 4]\n"
     ]
    }
   ],
   "source": [
    "print(li)"
   ]
  },
  {
   "cell_type": "code",
   "execution_count": null,
   "id": "78041824",
   "metadata": {},
   "outputs": [],
   "source": [
    "random.random()\n",
    "ra"
   ]
  },
  {
   "cell_type": "code",
   "execution_count": null,
   "id": "6a238135",
   "metadata": {},
   "outputs": [],
   "source": []
  },
  {
   "cell_type": "code",
   "execution_count": null,
   "id": "5905c73b",
   "metadata": {},
   "outputs": [],
   "source": []
  }
 ],
 "metadata": {
  "kernelspec": {
   "display_name": "Python 3 (ipykernel)",
   "language": "python",
   "name": "python3"
  },
  "language_info": {
   "codemirror_mode": {
    "name": "ipython",
    "version": 3
   },
   "file_extension": ".py",
   "mimetype": "text/x-python",
   "name": "python",
   "nbconvert_exporter": "python",
   "pygments_lexer": "ipython3",
   "version": "3.8.10"
  }
 },
 "nbformat": 4,
 "nbformat_minor": 5
}
