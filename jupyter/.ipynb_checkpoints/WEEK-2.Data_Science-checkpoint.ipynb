{
 "cells": [
  {
   "cell_type": "markdown",
   "id": "6a56ee1b",
   "metadata": {},
   "source": [
    "## Statistics and probability for Data Science"
   ]
  },
  {
   "cell_type": "markdown",
   "id": "a7a3f9a2",
   "metadata": {},
   "source": [
    "### Central Tendency\n",
    "- Mena,median and mode"
   ]
  },
  {
   "cell_type": "code",
   "execution_count": 203,
   "id": "0b02be0e",
   "metadata": {},
   "outputs": [
    {
     "name": "stdout",
     "output_type": "stream",
     "text": [
      "[14, 12, 13, 15, 12, 12, 14, 9, 12, 15, 16, 16, 10, 13, 15, 16, 14]\n"
     ]
    }
   ],
   "source": [
    "age = [12,14,15,16,12,13,14,15,16,16,12,13,14,12,15,10,9]\n",
    "import random\n",
    "\n",
    "#shuffling\n",
    "random.shuffle(age)\n",
    "print(age)"
   ]
  },
  {
   "cell_type": "code",
   "execution_count": 204,
   "id": "ec68e7ec",
   "metadata": {},
   "outputs": [],
   "source": [
    "# choice,choices,sample"
   ]
  },
  {
   "cell_type": "code",
   "execution_count": 205,
   "id": "d6051c5e",
   "metadata": {},
   "outputs": [
    {
     "name": "stdout",
     "output_type": "stream",
     "text": [
      "15\n"
     ]
    }
   ],
   "source": [
    "choice = random.choice(age)\n",
    "print(choice)"
   ]
  },
  {
   "cell_type": "code",
   "execution_count": 206,
   "id": "0044d092",
   "metadata": {},
   "outputs": [
    {
     "name": "stdout",
     "output_type": "stream",
     "text": [
      "[12]\n"
     ]
    }
   ],
   "source": [
    "print(random.choices(age))"
   ]
  },
  {
   "cell_type": "code",
   "execution_count": 207,
   "id": "8a130cd4",
   "metadata": {},
   "outputs": [
    {
     "name": "stdout",
     "output_type": "stream",
     "text": [
      "[10, 13, 14, 12, 12, 9]\n"
     ]
    }
   ],
   "source": [
    "random.seed(0)\n",
    "sample1 = random.sample(age,6)\n",
    "print(sample1)"
   ]
  },
  {
   "cell_type": "markdown",
   "id": "bed72a25",
   "metadata": {},
   "source": [
    "### Mean"
   ]
  },
  {
   "cell_type": "code",
   "execution_count": 208,
   "id": "5f1a3d8b",
   "metadata": {},
   "outputs": [
    {
     "name": "stdout",
     "output_type": "stream",
     "text": [
      "11.666666666666666\n"
     ]
    }
   ],
   "source": [
    "mean = statistics.mean(sample1)\n",
    "print(mean)"
   ]
  },
  {
   "cell_type": "markdown",
   "id": "50edfe10",
   "metadata": {},
   "source": [
    "### Median"
   ]
  },
  {
   "cell_type": "code",
   "execution_count": 210,
   "id": "38d6bbe8",
   "metadata": {},
   "outputs": [
    {
     "name": "stdout",
     "output_type": "stream",
     "text": [
      "[9, 10, 12, 12, 13, 14]\n",
      "6\n",
      "12.0\n"
     ]
    }
   ],
   "source": [
    "sample1.sort()\n",
    "print(sample1)\n",
    "length = len(sample1)\n",
    "print(length)\n",
    "if length%2==0:\n",
    "    median = (sample1[round(length/2)]+sample1[round(length/2)-1])/2\n",
    "    print(median)\n",
    "else:\n",
    "    median = sample1[round(length/2)]\n",
    "    print(f\"median = {median}\")"
   ]
  },
  {
   "cell_type": "markdown",
   "id": "0e89607e",
   "metadata": {},
   "source": [
    "### Mode "
   ]
  },
  {
   "cell_type": "code",
   "execution_count": 211,
   "id": "3a3e305f",
   "metadata": {},
   "outputs": [
    {
     "name": "stdout",
     "output_type": "stream",
     "text": [
      "Counter({12: 2, 9: 1, 10: 1, 13: 1, 14: 1})\n",
      "Mode is:  12\n"
     ]
    }
   ],
   "source": [
    "from collections import Counter\n",
    "\n",
    "\n",
    "counterdic = Counter(sample1)\n",
    "print(counterdic)\n",
    "values = counterdic.values()\n",
    "maximum = max(values)\n",
    "for i in counterdic:\n",
    "    if counterdic[i] == maximum:\n",
    "        print(\"Mode is: \",i)\n"
   ]
  },
  {
   "cell_type": "markdown",
   "id": "2c7445b7",
   "metadata": {},
   "source": [
    "## Measure of dispersion - Variance and SD"
   ]
  },
  {
   "cell_type": "markdown",
   "id": "d130cea0",
   "metadata": {},
   "source": [
    "### Sample variance\n"
   ]
  },
  {
   "cell_type": "code",
   "execution_count": 212,
   "id": "a83daf80",
   "metadata": {},
   "outputs": [
    {
     "name": "stdout",
     "output_type": "stream",
     "text": [
      "sample: [9, 10, 12, 12, 13, 14] mean:  11.666666666666666\n",
      "3.4666666666666663\n",
      "3.466666666666667\n"
     ]
    }
   ],
   "source": [
    "print(\"sample:\",sample1,'mean: ',mean)\n",
    "sum = 0\n",
    "for i in sample1:\n",
    "    sum = sum + ((float(i)-mean)**2)\n",
    "variance = sum/(len(sample1)-1)\n",
    "print(variance)\n",
    "\n",
    "\n",
    "import statistics\n",
    "\n",
    "print(statistics.variance(sample1))"
   ]
  },
  {
   "cell_type": "markdown",
   "id": "2f606651",
   "metadata": {},
   "source": [
    "### population Variance"
   ]
  },
  {
   "cell_type": "code",
   "execution_count": 217,
   "id": "8442a521",
   "metadata": {},
   "outputs": [
    {
     "name": "stdout",
     "output_type": "stream",
     "text": [
      "[14, 12, 13, 15, 12, 12, 14, 9, 12, 15, 16, 16, 10, 13, 15, 16, 14]\n",
      "13.411764705882353\n",
      "4.006920415224914\n",
      "4.257352941176471\n"
     ]
    }
   ],
   "source": [
    "print(age)\n",
    "meanpop = statistics.mean(age)\n",
    "print(meanpop)\n",
    "var = 0\n",
    "for i in age:\n",
    "    var = var + ((float(i)-meanpop)**2)/(len(age))\n",
    "print(var)\n"
   ]
  },
  {
   "cell_type": "markdown",
   "id": "22c83f5d",
   "metadata": {},
   "source": [
    "### Standard Deviation"
   ]
  },
  {
   "cell_type": "code",
   "execution_count": 218,
   "id": "ed35edd6",
   "metadata": {},
   "outputs": [
    {
     "name": "stdout",
     "output_type": "stream",
     "text": [
      "2.0017293561380654\n"
     ]
    }
   ],
   "source": [
    "from math import sqrt\n",
    "\n",
    "sd = sqrt(var)\n",
    "print(sd)"
   ]
  },
  {
   "cell_type": "markdown",
   "id": "1c94817a",
   "metadata": {},
   "source": [
    "## Five Number summary"
   ]
  },
  {
   "cell_type": "code",
   "execution_count": 235,
   "id": "5fcd607b",
   "metadata": {},
   "outputs": [
    {
     "name": "stdout",
     "output_type": "stream",
     "text": [
      "[9, 10, 12, 12, 12, 12, 13, 13, 14, 14, 14, 15, 15, 15, 16, 16, 16]\n",
      "min =  9\n",
      "Q1 =  12\n",
      "median = 14\n",
      "Q3 =  15\n",
      "max =  16\n"
     ]
    }
   ],
   "source": [
    "#minimum of population age\n",
    "sorted_age = list(sorted(age))\n",
    "print(sorted_age)\n",
    "\n",
    "minimum = min(age)\n",
    "print(\"min = \",minimum)\n",
    "\n",
    "#1st quartile Q1\n",
    "q1 = sorted_age[round(25/100*(len(sorted_age)))]\n",
    "print(\"Q1 = \",q1)\n",
    "\n",
    "length = len(age)\n",
    "if length%2==0:\n",
    "    median = (sorted_age[round(length/2)]+sorted_age[round(length/2)-1])/2\n",
    "    print(median)\n",
    "else:\n",
    "    median = sorted_age[round(length/2)]\n",
    "    print(f\"median = {median}\")\n",
    "\n",
    "#3rd quartile\n",
    "q3 = sorted_age[round(75/100*(len(sorted_age)))]\n",
    "print(\"Q3 = \",q3)\n",
    "\n",
    "#maximum\n",
    "maximum = max(age)\n",
    "print(\"max = \",maximum)\n",
    "\n"
   ]
  },
  {
   "cell_type": "code",
   "execution_count": null,
   "id": "d7b8e22b",
   "metadata": {},
   "outputs": [],
   "source": []
  }
 ],
 "metadata": {
  "kernelspec": {
   "display_name": "Python 3 (ipykernel)",
   "language": "python",
   "name": "python3"
  },
  "language_info": {
   "codemirror_mode": {
    "name": "ipython",
    "version": 3
   },
   "file_extension": ".py",
   "mimetype": "text/x-python",
   "name": "python",
   "nbconvert_exporter": "python",
   "pygments_lexer": "ipython3",
   "version": "3.8.10"
  }
 },
 "nbformat": 4,
 "nbformat_minor": 5
}
