{
 "cells": [
  {
   "cell_type": "code",
   "execution_count": 1,
   "id": "46c185a2",
   "metadata": {},
   "outputs": [
    {
     "name": "stdout",
     "output_type": "stream",
     "text": [
      "hello\n"
     ]
    }
   ],
   "source": [
    "print(\"hello\")"
   ]
  },
  {
   "cell_type": "code",
   "execution_count": 4,
   "id": "3da24509",
   "metadata": {},
   "outputs": [
    {
     "name": "stdout",
     "output_type": "stream",
     "text": [
      "5\n"
     ]
    }
   ],
   "source": [
    "a = 2\n",
    "b = 3\n",
    "c=a+b\n",
    "print(c)"
   ]
  },
  {
   "cell_type": "markdown",
   "id": "562de29e",
   "metadata": {},
   "source": [
    "# python"
   ]
  },
  {
   "cell_type": "code",
   "execution_count": 6,
   "id": "2f528c07",
   "metadata": {},
   "outputs": [
    {
     "name": "stdout",
     "output_type": "stream",
     "text": [
      "argon2-cffi==21.3.0\r\n",
      "argon2-cffi-bindings==21.2.0\r\n",
      "asttokens==2.0.5\r\n",
      "attrs==21.4.0\r\n",
      "backcall==0.2.0\r\n",
      "beautifulsoup4==4.11.1\r\n",
      "bleach==5.0.0\r\n",
      "cffi==1.15.0\r\n",
      "debugpy==1.6.0\r\n",
      "decorator==5.1.1\r\n",
      "defusedxml==0.7.1\r\n",
      "entrypoints==0.4\r\n",
      "executing==0.8.3\r\n",
      "fastjsonschema==2.15.3\r\n",
      "importlib-resources==5.7.1\r\n",
      "ipykernel==6.13.0\r\n",
      "ipython==8.4.0\r\n",
      "ipython-genutils==0.2.0\r\n",
      "ipywidgets==7.7.0\r\n",
      "jedi==0.18.1\r\n",
      "Jinja2==3.1.2\r\n",
      "jsonschema==4.6.0\r\n",
      "jupyter==1.0.0\r\n",
      "jupyter-client==7.3.2\r\n",
      "jupyter-console==6.4.3\r\n",
      "jupyter-core==4.10.0\r\n",
      "jupyterlab-pygments==0.2.2\r\n",
      "jupyterlab-widgets==1.1.0\r\n",
      "MarkupSafe==2.1.1\r\n",
      "matplotlib-inline==0.1.3\r\n",
      "mistune==0.8.4\r\n",
      "nbclient==0.6.4\r\n",
      "nbconvert==6.5.0\r\n",
      "nbformat==5.4.0\r\n",
      "nest-asyncio==1.5.5\r\n",
      "notebook==6.4.11\r\n",
      "packaging==21.3\r\n",
      "pandocfilters==1.5.0\r\n",
      "parso==0.8.3\r\n",
      "pexpect==4.8.0\r\n",
      "pickleshare==0.7.5\r\n",
      "prometheus-client==0.14.1\r\n",
      "prompt-toolkit==3.0.29\r\n",
      "psutil==5.9.1\r\n",
      "ptyprocess==0.7.0\r\n",
      "pure-eval==0.2.2\r\n",
      "pycparser==2.21\r\n",
      "Pygments==2.12.0\r\n",
      "pyparsing==3.0.9\r\n",
      "pyrsistent==0.18.1\r\n",
      "python-dateutil==2.8.2\r\n",
      "pyzmq==23.1.0\r\n",
      "qtconsole==5.3.1\r\n",
      "QtPy==2.1.0\r\n",
      "Send2Trash==1.8.0\r\n",
      "six==1.16.0\r\n",
      "soupsieve==2.3.2.post1\r\n",
      "stack-data==0.2.0\r\n",
      "terminado==0.15.0\r\n",
      "tinycss2==1.1.1\r\n",
      "tornado==6.1\r\n",
      "traitlets==5.2.2.post1\r\n",
      "wcwidth==0.2.5\r\n",
      "webencodings==0.5.1\r\n",
      "widgetsnbextension==3.6.0\r\n",
      "zipp==3.8.0\r\n"
     ]
    }
   ],
   "source": [
    "!pip freeze"
   ]
  },
  {
   "cell_type": "markdown",
   "id": "8bba46d0",
   "metadata": {},
   "source": [
    "## markdow"
   ]
  },
  {
   "cell_type": "code",
   "execution_count": null,
   "id": "5494af1b",
   "metadata": {},
   "outputs": [],
   "source": []
  }
 ],
 "metadata": {
  "kernelspec": {
   "display_name": "Python 3 (ipykernel)",
   "language": "python",
   "name": "python3"
  },
  "language_info": {
   "codemirror_mode": {
    "name": "ipython",
    "version": 3
   },
   "file_extension": ".py",
   "mimetype": "text/x-python",
   "name": "python",
   "nbconvert_exporter": "python",
   "pygments_lexer": "ipython3",
   "version": "3.8.10"
  }
 },
 "nbformat": 4,
 "nbformat_minor": 5
}
